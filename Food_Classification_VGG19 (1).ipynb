{
  "nbformat": 4,
  "nbformat_minor": 0,
  "metadata": {
    "accelerator": "GPU",
    "colab": {
      "name": "Food_Classification_VGG19.ipynb",
      "provenance": [],
      "collapsed_sections": []
    },
    "kernelspec": {
      "display_name": "Python 3",
      "language": "python",
      "name": "python3"
    },
    "language_info": {
      "codemirror_mode": {
        "name": "ipython",
        "version": 3
      },
      "file_extension": ".py",
      "mimetype": "text/x-python",
      "name": "python",
      "nbconvert_exporter": "python",
      "pygments_lexer": "ipython3",
      "version": "3.8.8"
    }
  },
  "cells": [
    {
      "cell_type": "code",
      "metadata": {
        "colab": {
          "base_uri": "https://localhost:8080/"
        },
        "id": "CZJ9jtNXNXaT",
        "outputId": "a3eb8c72-0de1-434a-a379-53880733809e"
      },
      "source": [
        "from google.colab import drive\n",
        "drive.mount('/content/drive')"
      ],
      "execution_count": null,
      "outputs": [
        {
          "output_type": "stream",
          "name": "stdout",
          "text": [
            "Mounted at /content/drive\n"
          ]
        }
      ]
    },
    {
      "cell_type": "code",
      "metadata": {
        "id": "6K2fKx_Uyrdv",
        "colab": {
          "base_uri": "https://localhost:8080/"
        },
        "outputId": "6c4b06d4-4539-43c0-9a72-bdd7cb1a4529"
      },
      "source": [
        "from tensorflow import keras\n",
        "import numpy as np\n",
        "\n",
        "base_model = keras.applications.VGG19(\n",
        "    weights = 'imagenet',\n",
        "    input_shape= (224,224,3),\n",
        "    include_top = False\n",
        ")"
      ],
      "execution_count": null,
      "outputs": [
        {
          "output_type": "stream",
          "name": "stdout",
          "text": [
            "Downloading data from https://storage.googleapis.com/tensorflow/keras-applications/vgg19/vgg19_weights_tf_dim_ordering_tf_kernels_notop.h5\n",
            "80142336/80134624 [==============================] - 1s 0us/step\n",
            "80150528/80134624 [==============================] - 1s 0us/step\n"
          ]
        }
      ]
    },
    {
      "cell_type": "code",
      "metadata": {
        "id": "Dq2yGRv2zuhr"
      },
      "source": [
        "#Freeze base model\n",
        "base_model.trainable = False"
      ],
      "execution_count": null,
      "outputs": []
    },
    {
      "cell_type": "code",
      "metadata": {
        "id": "ep2mFvKr09uS"
      },
      "source": [
        "#Create inputs with correct shape\n",
        "inputs = keras.Input(shape=(224, 224, 3))\n",
        "\n",
        "#Separately from setting trainable on the model, we set training to false\n",
        "x = base_model(inputs, training = False)\n",
        "\n",
        "#Add pooling layer or Flatten layer\n",
        "x = keras.layers.GlobalAveragePooling2D()(x)\n",
        "\n",
        "#Add final dense layer\n",
        "outputs = keras.layers.Dense(units=7, activation = 'softmax')(x)\n",
        "\n",
        "#Combine inputs and outputs to create model\n",
        "model = keras.Model(inputs, outputs)"
      ],
      "execution_count": null,
      "outputs": []
    },
    {
      "cell_type": "code",
      "metadata": {
        "colab": {
          "base_uri": "https://localhost:8080/"
        },
        "id": "xc2CJZQg1zcf",
        "outputId": "bdc5d5c3-6c6f-46ff-b09f-291d3686d4d2"
      },
      "source": [
        "model.summary()"
      ],
      "execution_count": null,
      "outputs": [
        {
          "output_type": "stream",
          "name": "stdout",
          "text": [
            "Model: \"model\"\n",
            "_________________________________________________________________\n",
            " Layer (type)                Output Shape              Param #   \n",
            "=================================================================\n",
            " input_2 (InputLayer)        [(None, 224, 224, 3)]     0         \n",
            "                                                                 \n",
            " vgg19 (Functional)          (None, 7, 7, 512)         20024384  \n",
            "                                                                 \n",
            " global_average_pooling2d (G  (None, 512)              0         \n",
            " lobalAveragePooling2D)                                          \n",
            "                                                                 \n",
            " dense (Dense)               (None, 7)                 3591      \n",
            "                                                                 \n",
            "=================================================================\n",
            "Total params: 20,027,975\n",
            "Trainable params: 3,591\n",
            "Non-trainable params: 20,024,384\n",
            "_________________________________________________________________\n"
          ]
        }
      ]
    },
    {
      "cell_type": "code",
      "metadata": {
        "id": "yEvU-luk13m_"
      },
      "source": [
        "model.compile(loss='categorical_crossentropy', optimizer='rmsprop', metrics=['accuracy'])"
      ],
      "execution_count": null,
      "outputs": []
    },
    {
      "cell_type": "code",
      "metadata": {
        "id": "yBOMU3kf2Kg2"
      },
      "source": [
        "from tensorflow.keras.preprocessing.image import ImageDataGenerator\n",
        "datagen = ImageDataGenerator(\n",
        "    rescale = 1./255,\n",
        "    rotation_range=45,\n",
        "    shear_range = 0.2,\n",
        "    zoom_range = 0.2,\n",
        "    width_shift_range=0.1,\n",
        "    height_shift_range=0.1,\n",
        "    horizontal_flip=True,\n",
        "    vertical_flip=True,\n",
        "\n",
        ")"
      ],
      "execution_count": null,
      "outputs": []
    },
    {
      "cell_type": "markdown",
      "metadata": {
        "id": "bEyYECVHvdlM"
      },
      "source": [
        "# New Section"
      ]
    },
    {
      "cell_type": "code",
      "metadata": {
        "colab": {
          "base_uri": "https://localhost:8080/"
        },
        "id": "oxuR-rKGvSQ3",
        "outputId": "20c9675c-6a6d-41a6-c6f1-1c045e23b577"
      },
      "source": [
        "# load and iterate training dataset\n",
        "train_it = datagen.flow_from_directory('/content/drive/MyDrive/Food Classification/train_noise_and_noise_rot15_flipv', target_size = (224,224),color_mode='rgb',class_mode=\"categorical\")\n",
        "# load and iterate validation dataset\n",
        "valid_it=datagen.flow_from_directory('/content/drive/MyDrive/Food Classification/validation',target_size=(224,224),shuffle=False,color_mode='rgb',class_mode=\"categorical\")"
      ],
      "execution_count": null,
      "outputs": [
        {
          "output_type": "stream",
          "name": "stdout",
          "text": [
            "Found 2619 images belonging to 7 classes.\n",
            "Found 216 images belonging to 7 classes.\n"
          ]
        }
      ]
    },
    {
      "cell_type": "code",
      "metadata": {
        "colab": {
          "base_uri": "https://localhost:8080/"
        },
        "id": "ZU3y4Wufvv2J",
        "outputId": "272770a3-d068-43cd-a984-3dfadfcd8250"
      },
      "source": [
        "model.fit(train_it,\n",
        "          validation_data=valid_it, \n",
        "          steps_per_epoch=train_it.samples/train_it.batch_size, \n",
        "          validation_steps=valid_it.samples/valid_it.batch_size, \n",
        "          epochs=20)"
      ],
      "execution_count": null,
      "outputs": [
        {
          "output_type": "stream",
          "name": "stdout",
          "text": [
            "Epoch 1/20\n",
            "81/81 [==============================] - 730s 9s/step - loss: 1.8449 - accuracy: 0.2848 - val_loss: 1.6667 - val_accuracy: 0.4444\n",
            "Epoch 2/20\n",
            "81/81 [==============================] - 80s 981ms/step - loss: 1.7062 - accuracy: 0.3826 - val_loss: 1.5160 - val_accuracy: 0.5370\n",
            "Epoch 3/20\n",
            "81/81 [==============================] - 80s 978ms/step - loss: 1.6116 - accuracy: 0.4387 - val_loss: 1.4013 - val_accuracy: 0.5185\n",
            "Epoch 4/20\n",
            "40/81 [=============>................] - ETA: 36s - loss: 1.5551 - accuracy: 0.4484"
          ]
        }
      ]
    },
    {
      "cell_type": "code",
      "metadata": {
        "id": "RV7MC_Nl4lxj"
      },
      "source": [
        "#Unfreeze the base model\n",
        "base_model.trainable = True\n",
        "\n",
        "#Compile the model with a law learning rate\n",
        "model.compile(optimizer = keras.optimizers.RMSprop(learning_rate = 0.00001),\n",
        "loss = keras.losses.CategoricalCrossentropy(from_logits = True),metrics = [keras.metrics.CategoricalAccuracy()])"
      ],
      "execution_count": null,
      "outputs": []
    },
    {
      "cell_type": "code",
      "metadata": {
        "colab": {
          "base_uri": "https://localhost:8080/"
        },
        "id": "OxukoI3w5WHM",
        "outputId": "24f7fd03-3ea5-4bb4-bcfb-7965cb0e650d"
      },
      "source": [
        "model.fit(train_it,validation_data=valid_it, steps_per_epoch=train_it.samples/train_it.batch_size, validation_steps=valid_it.samples/valid_it.batch_size, epochs=10)"
      ],
      "execution_count": null,
      "outputs": [
        {
          "output_type": "stream",
          "name": "stdout",
          "text": [
            "Epoch 1/10\n"
          ]
        },
        {
          "output_type": "stream",
          "name": "stderr",
          "text": [
            "/usr/local/lib/python3.7/dist-packages/tensorflow/python/util/dispatch.py:1096: UserWarning: \"`categorical_crossentropy` received `from_logits=True`, but the `output` argument was produced by a sigmoid or softmax activation and thus does not represent logits. Was this intended?\"\n",
            "  return dispatch_target(*args, **kwargs)\n"
          ]
        },
        {
          "output_type": "stream",
          "name": "stdout",
          "text": [
            "81/81 [==============================] - 114s 1s/step - loss: 0.8782 - categorical_accuracy: 0.6831 - val_loss: 0.5085 - val_categorical_accuracy: 0.8426\n",
            "Epoch 2/10\n",
            "81/81 [==============================] - 102s 1s/step - loss: 0.5923 - categorical_accuracy: 0.7824 - val_loss: 0.4098 - val_categorical_accuracy: 0.8657\n",
            "Epoch 3/10\n",
            "81/81 [==============================] - 102s 1s/step - loss: 0.4552 - categorical_accuracy: 0.8328 - val_loss: 0.3259 - val_categorical_accuracy: 0.8750\n",
            "Epoch 4/10\n",
            "81/81 [==============================] - 102s 1s/step - loss: 0.3743 - categorical_accuracy: 0.8614 - val_loss: 0.2516 - val_categorical_accuracy: 0.9167\n",
            "Epoch 5/10\n",
            "81/81 [==============================] - 102s 1s/step - loss: 0.3484 - categorical_accuracy: 0.8744 - val_loss: 0.2596 - val_categorical_accuracy: 0.8889\n",
            "Epoch 6/10\n",
            "81/81 [==============================] - 102s 1s/step - loss: 0.2900 - categorical_accuracy: 0.8939 - val_loss: 0.2568 - val_categorical_accuracy: 0.9074\n",
            "Epoch 7/10\n",
            "81/81 [==============================] - 102s 1s/step - loss: 0.2609 - categorical_accuracy: 0.9034 - val_loss: 0.2384 - val_categorical_accuracy: 0.9213\n",
            "Epoch 8/10\n",
            "81/81 [==============================] - 101s 1s/step - loss: 0.2266 - categorical_accuracy: 0.9210 - val_loss: 0.1698 - val_categorical_accuracy: 0.9352\n",
            "Epoch 9/10\n",
            "81/81 [==============================] - 100s 1s/step - loss: 0.2229 - categorical_accuracy: 0.9183 - val_loss: 0.3180 - val_categorical_accuracy: 0.8750\n",
            "Epoch 10/10\n",
            "81/81 [==============================] - 101s 1s/step - loss: 0.1864 - categorical_accuracy: 0.9339 - val_loss: 0.2174 - val_categorical_accuracy: 0.9306\n"
          ]
        },
        {
          "output_type": "execute_result",
          "data": {
            "text/plain": [
              "<keras.callbacks.History at 0x7ff2e0069c90>"
            ]
          },
          "metadata": {},
          "execution_count": 10
        }
      ]
    },
    {
      "cell_type": "code",
      "metadata": {
        "colab": {
          "base_uri": "https://localhost:8080/"
        },
        "id": "WH5K7bC55iEp",
        "outputId": "6d884d93-481a-4580-a62c-52be93ff3258"
      },
      "source": [
        "\n",
        "model.evaluate(valid_it, steps = valid_it.samples/valid_it.batch_size)"
      ],
      "execution_count": null,
      "outputs": [
        {
          "output_type": "stream",
          "name": "stdout",
          "text": [
            "6/6 [==============================] - 7s 997ms/step - loss: 0.2419 - categorical_accuracy: 0.9213\n"
          ]
        },
        {
          "output_type": "execute_result",
          "data": {
            "text/plain": [
              "[0.24188221991062164, 0.9212962985038757]"
            ]
          },
          "metadata": {},
          "execution_count": 11
        }
      ]
    },
    {
      "cell_type": "code",
      "metadata": {
        "id": "5kUchvJjL59z",
        "colab": {
          "base_uri": "https://localhost:8080/"
        },
        "outputId": "0f34165d-83d8-490a-9248-ff0626dc10d9"
      },
      "source": [
        "model.save(\"CNN_VGG19_\")"
      ],
      "execution_count": null,
      "outputs": [
        {
          "output_type": "stream",
          "name": "stdout",
          "text": [
            "INFO:tensorflow:Assets written to: CNN_VGG19_/assets\n"
          ]
        }
      ]
    },
    {
      "cell_type": "code",
      "metadata": {
        "id": "NygvCW4tvjpq"
      },
      "source": [
        "!cp -r \"/content/CNN_VGG19_\" \"/content/drive/MyDrive/Data\""
      ],
      "execution_count": null,
      "outputs": []
    },
    {
      "cell_type": "code",
      "metadata": {
        "id": "D7pWBVh9vntG",
        "colab": {
          "base_uri": "https://localhost:8080/"
        },
        "outputId": "618111e7-79c9-4c82-8a0e-9e226ea4a2d6"
      },
      "source": [
        "test_steps_per_epoch = np.math.ceil(valid_it.samples / valid_it.batch_size)\n",
        "probabilities = model.predict(valid_it, steps=test_steps_per_epoch)\n",
        "y_pred = np.argmax(probabilities, axis=1)\n",
        "true_classes = valid_it.classes\n",
        "class_labels = list(valid_it.class_indices.keys())\n",
        "import sklearn.metrics as metrics\n",
        "report = metrics.classification_report(true_classes, y_pred, target_names=class_labels)\n",
        "print(report)"
      ],
      "execution_count": null,
      "outputs": [
        {
          "output_type": "stream",
          "name": "stdout",
          "text": [
            "              precision    recall  f1-score   support\n",
            "\n",
            "     Class 1       1.00      0.90      0.95        21\n",
            "     Class 2       0.88      1.00      0.93        43\n",
            "     Class 3       0.92      0.96      0.94        25\n",
            "     Class 4       0.85      0.94      0.89        18\n",
            "     Class 5       0.92      0.92      0.92        38\n",
            "     Class 6       1.00      0.83      0.91        35\n",
            "     Class 7       1.00      0.97      0.99        36\n",
            "\n",
            "    accuracy                           0.94       216\n",
            "   macro avg       0.94      0.93      0.93       216\n",
            "weighted avg       0.94      0.94      0.94       216\n",
            "\n"
          ]
        }
      ]
    },
    {
      "cell_type": "code",
      "metadata": {
        "colab": {
          "base_uri": "https://localhost:8080/"
        },
        "id": "irt4pLVSYiwX",
        "outputId": "1bfe0800-7fb4-41f6-bdee-d027ee3278ce"
      },
      "source": [
        "\n",
        "\n",
        "y_pred = np.argmax(probabilities, axis=1)\n",
        "y_pred"
      ],
      "execution_count": null,
      "outputs": [
        {
          "output_type": "execute_result",
          "data": {
            "text/plain": [
              "array([2, 0, 5, 5, 0, 1, 5, 5, 1, 5, 5, 2, 1, 0, 3, 4, 6, 5, 4, 5, 4, 6,\n",
              "       1, 4, 3, 4, 6, 4, 2, 6, 1, 6, 4, 6, 5, 5, 5, 1, 1, 6, 6, 2, 4, 1,\n",
              "       4, 4, 5, 0, 1, 4, 1, 4, 4, 1, 1, 0, 1, 2, 1, 4, 2, 2, 6, 2, 5, 4,\n",
              "       6, 6, 6, 1, 4, 6, 5, 4, 5, 4, 5, 2, 5, 0, 6, 0, 5, 2, 6, 5, 0, 6,\n",
              "       1, 4, 1, 3, 1, 5, 6, 4, 3, 1, 6, 5, 4, 0, 4, 6, 1, 2, 5, 2, 4, 5,\n",
              "       6, 5, 6, 4, 4, 4, 2, 2, 4, 2, 6, 5, 6, 0, 6, 6, 5, 1, 1, 5, 4, 4,\n",
              "       4, 0, 0, 1, 0, 2, 4, 2, 6, 6, 1, 4, 2, 5, 2, 1, 5, 2, 1, 1, 1, 0,\n",
              "       1, 0, 5, 2, 1, 0, 1, 4, 6, 2, 2, 4, 5, 0, 6, 1, 1, 6, 4, 4, 2, 0,\n",
              "       5, 4, 0, 6, 6, 5, 1, 5, 6, 5, 1, 6, 0, 5, 5, 4, 1, 4, 2, 2, 5, 2,\n",
              "       4, 5, 5, 1, 5, 0, 1, 5, 5, 0, 2, 6, 5, 5, 4, 4, 1, 1])"
            ]
          },
          "metadata": {},
          "execution_count": 44
        }
      ]
    },
    {
      "cell_type": "code",
      "metadata": {
        "id": "ivahrbRyY6sM"
      },
      "source": [
        ""
      ],
      "execution_count": null,
      "outputs": []
    }
  ]
}